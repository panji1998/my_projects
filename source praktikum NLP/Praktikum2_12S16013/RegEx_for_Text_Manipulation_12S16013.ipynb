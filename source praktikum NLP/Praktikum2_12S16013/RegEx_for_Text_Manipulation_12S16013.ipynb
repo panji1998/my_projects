{
 "cells": [
  {
   "cell_type": "code",
   "execution_count": 3,
   "metadata": {},
   "outputs": [],
   "source": [
    "import re"
   ]
  },
  {
   "cell_type": "code",
   "execution_count": 4,
   "metadata": {},
   "outputs": [],
   "source": [
    "text = \"pengolahan bahasa alami dimulai pada tahun 1950-an.\""
   ]
  },
  {
   "cell_type": "code",
   "execution_count": 7,
   "metadata": {},
   "outputs": [],
   "source": [
    "result = re.match(r\".*\", text)"
   ]
  },
  {
   "cell_type": "code",
   "execution_count": 8,
   "metadata": {},
   "outputs": [
    {
     "data": {
      "text/plain": [
       "re.Match"
      ]
     },
     "execution_count": 8,
     "metadata": {},
     "output_type": "execute_result"
    }
   ],
   "source": [
    "type(result)"
   ]
  },
  {
   "cell_type": "code",
   "execution_count": 9,
   "metadata": {},
   "outputs": [
    {
     "data": {
      "text/plain": [
       "'pengolahan bahasa alami dimulai pada tahun 1950-an.'"
      ]
     },
     "execution_count": 9,
     "metadata": {},
     "output_type": "execute_result"
    }
   ],
   "source": [
    "result.group(0)"
   ]
  },
  {
   "cell_type": "code",
   "execution_count": 11,
   "metadata": {},
   "outputs": [],
   "source": [
    "text = \"\""
   ]
  },
  {
   "cell_type": "code",
   "execution_count": 12,
   "metadata": {},
   "outputs": [
    {
     "data": {
      "text/plain": [
       "''"
      ]
     },
     "execution_count": 12,
     "metadata": {},
     "output_type": "execute_result"
    }
   ],
   "source": [
    "result = re.match(r\".*\", text)\n",
    "result.group(0)"
   ]
  },
  {
   "cell_type": "code",
   "execution_count": 13,
   "metadata": {},
   "outputs": [],
   "source": [
    "result = re.match(r\".+\", text)"
   ]
  },
  {
   "cell_type": "raw",
   "metadata": {},
   "source": [
    "text = \"Pengolahan bahasa alami dimulai pada tahun 1950-an.\""
   ]
  },
  {
   "cell_type": "code",
   "execution_count": 15,
   "metadata": {},
   "outputs": [],
   "source": [
    "result = re.match(r\"[a-zA-z]+\", text)"
   ]
  },
  {
   "cell_type": "code",
   "execution_count": 16,
   "metadata": {},
   "outputs": [
    {
     "name": "stdout",
     "output_type": "stream",
     "text": [
      "Pengolahan\n"
     ]
    }
   ],
   "source": [
    "print(result.group(0))"
   ]
  },
  {
   "cell_type": "code",
   "execution_count": 17,
   "metadata": {},
   "outputs": [
    {
     "data": {
      "text/plain": [
       "NoneType"
      ]
     },
     "execution_count": 17,
     "metadata": {},
     "output_type": "execute_result"
    }
   ],
   "source": [
    "text = \"1950 merupakan tahun awal perkembangan pengolahan bahasa alami.\"\n",
    "result = re.match(r\"[a-zA-z]+\", text)\n",
    "type(result)"
   ]
  },
  {
   "cell_type": "code",
   "execution_count": 18,
   "metadata": {},
   "outputs": [
    {
     "name": "stdout",
     "output_type": "stream",
     "text": [
      "merupakan\n"
     ]
    }
   ],
   "source": [
    "text = \"1950 merupakan tahun awal perkembangan pengolahan bahasa alami.\"\n",
    "result = re.search(r\"[a-zA-z]+\", text)\n",
    "print(result.group(0))"
   ]
  },
  {
   "cell_type": "code",
   "execution_count": 20,
   "metadata": {},
   "outputs": [
    {
     "name": "stdout",
     "output_type": "stream",
     "text": [
      "Match not found\n"
     ]
    }
   ],
   "source": [
    "text = \"1950 merupakan tahun awal perkembangan pengolahan bahasa alami.\"\n",
    "if re.search(r\"1950$\", text):\n",
    "    print(\"Match found\")\n",
    "else:\n",
    "        print(\"Match not found\")"
   ]
  },
  {
   "cell_type": "code",
   "execution_count": 21,
   "metadata": {},
   "outputs": [
    {
     "name": "stdout",
     "output_type": "stream",
     "text": [
      "Match Found\n"
     ]
    }
   ],
   "source": [
    "text = \"Pengolahan bahasa alami dimulai pada tahun 1950\"\n",
    "if re.search(r\"1950$\", text):\n",
    "    print(\"Match Found\")\n",
    "else:\n",
    "    print(\"Match not found\")"
   ]
  },
  {
   "cell_type": "code",
   "execution_count": 22,
   "metadata": {},
   "outputs": [],
   "source": [
    "text = \"Saya ingin membeli kue seharga antara 5000 dan 10000 rupiah\""
   ]
  },
  {
   "cell_type": "code",
   "execution_count": 23,
   "metadata": {},
   "outputs": [
    {
     "name": "stdout",
     "output_type": "stream",
     "text": [
      "5000\n"
     ]
    }
   ],
   "source": [
    "result = re.search(r\"\\d+\", text)\n",
    "print(result.group(0))"
   ]
  },
  {
   "cell_type": "code",
   "execution_count": 24,
   "metadata": {},
   "outputs": [
    {
     "name": "stdout",
     "output_type": "stream",
     "text": [
      "['5000', '10000']\n"
     ]
    }
   ],
   "source": [
    "text = \"Saya ingin membeli kue seharga antara 5000 dan 10000 rupiah\"\n",
    "result = re.findall(r\"\\d+\", text)\n",
    "print(result)"
   ]
  },
  {
   "cell_type": "code",
   "execution_count": 25,
   "metadata": {},
   "outputs": [],
   "source": [
    "text = \"Film The Imitation Game dirilis pada tahun 2014\""
   ]
  },
  {
   "cell_type": "code",
   "execution_count": 26,
   "metadata": {},
   "outputs": [],
   "source": [
    "result = re.sub(r\"The Imitation Game\", \"Alan Turing\", text)"
   ]
  },
  {
   "cell_type": "code",
   "execution_count": 27,
   "metadata": {},
   "outputs": [
    {
     "name": "stdout",
     "output_type": "stream",
     "text": [
      "FXXX TXX IXXXXXXXX GXXX XXXXXXX XXXX XXXXX 2014\n"
     ]
    }
   ],
   "source": [
    "text = \"Film The Imitation Game dirilis pada tahun 2014\"\n",
    "result = re.sub(r\"[a-z]\", \"X\", text)\n",
    "print(result)"
   ]
  },
  {
   "cell_type": "code",
   "execution_count": 28,
   "metadata": {},
   "outputs": [
    {
     "name": "stdout",
     "output_type": "stream",
     "text": [
      "XXXX XXX XXXXXXXXX XXXX XXXXXXX XXXX XXXXX 2014\n"
     ]
    }
   ],
   "source": [
    "result = re.sub(r\"[a-zA-Z]\", \"X\", text)\n",
    "print(result)"
   ]
  },
  {
   "cell_type": "code",
   "execution_count": 29,
   "metadata": {},
   "outputs": [
    {
     "name": "stdout",
     "output_type": "stream",
     "text": [
      "XXXX XXX XXXXXXXXX XXXX XXXXXXX XXXX XXXXX 2014\n"
     ]
    }
   ],
   "source": [
    "result = re.sub(r\"[a-z]\", \"X\", text, flags=re.I)\n",
    "print(result)"
   ]
  },
  {
   "cell_type": "code",
   "execution_count": 30,
   "metadata": {},
   "outputs": [
    {
     "name": "stdout",
     "output_type": "stream",
     "text": [
      "Film The Imitation Game dirilis pada tahun \n"
     ]
    }
   ],
   "source": [
    "text = \"Film The Imitation Game dirilis pada tahun 2014\"\n",
    "result = re.sub(r\"\\d\", \"\", text)\n",
    "print(result)"
   ]
  },
  {
   "cell_type": "code",
   "execution_count": 31,
   "metadata": {},
   "outputs": [
    {
     "name": "stdout",
     "output_type": "stream",
     "text": [
      "XXXX XXX XXXXXXXXX XXXX XXXXXXX XXXX XXXXX 2014\n"
     ]
    }
   ],
   "source": [
    "text = \"Film The Imitation Game dirilis pada tahun 2014\"\n",
    "result = re.sub(r\"[a-z]\", \"X\", text, flags=re.I)\n",
    "print(result)"
   ]
  },
  {
   "cell_type": "code",
   "execution_count": 32,
   "metadata": {},
   "outputs": [
    {
     "name": "stdout",
     "output_type": "stream",
     "text": [
      "Film The Imitation Game dirilis pada tahun 2014\n"
     ]
    }
   ],
   "source": [
    "text = \"Film The Imitation Game dirilis pada tahun 2014\"\n",
    "result = re.sub(r\"[,@\\'?\\.$%_]\", \"\", text, flags=re.I)\n",
    "print(result)"
   ]
  },
  {
   "cell_type": "code",
   "execution_count": 33,
   "metadata": {},
   "outputs": [
    {
     "name": "stdout",
     "output_type": "stream",
     "text": [
      "FilmTheImitationGamedirilispadatahun2014\n"
     ]
    }
   ],
   "source": [
    "text = \"Film The Imitation Game dirilis pada tahun 2014\"\n",
    "result = re.sub(r\"\\s+\", \"\", text, flags=re.I)\n",
    "print(result)"
   ]
  },
  {
   "cell_type": "code",
   "execution_count": 34,
   "metadata": {},
   "outputs": [
    {
     "name": "stdout",
     "output_type": "stream",
     "text": [
      "Film The Imitation Game dirilis pada tahun 2014\n"
     ]
    }
   ],
   "source": [
    "text = \"     Film The Imitation Game dirilis pada tahun 2014\"\n",
    "result = re.sub(r\"^\\s+\", \"\", text)\n",
    "print(result)"
   ]
  },
  {
   "cell_type": "code",
   "execution_count": 35,
   "metadata": {},
   "outputs": [
    {
     "name": "stdout",
     "output_type": "stream",
     "text": [
      "Film The Imitation Game dirilis pada tahun 2014\n"
     ]
    }
   ],
   "source": [
    "text = \"Film The Imitation Game dirilis pada tahun 2014\"\n",
    "result = re.sub(r\"\\s+$\", \"\", text)\n",
    "print(result)"
   ]
  },
  {
   "cell_type": "code",
   "execution_count": 36,
   "metadata": {},
   "outputs": [
    {
     "name": "stdout",
     "output_type": "stream",
     "text": [
      "Film The Imitation Game    s dirilis pada tahun 2014\n"
     ]
    }
   ],
   "source": [
    "text = \"Film The Imitation Game    s dirilis pada tahun 2014\"\n",
    "result = re.sub(r\"\\s+[a-aZ-Z]\\s+\", \"\", text)\n",
    "print(result)"
   ]
  },
  {
   "cell_type": "code",
   "execution_count": 39,
   "metadata": {},
   "outputs": [
    {
     "name": "stdout",
     "output_type": "stream",
     "text": [
      "['Film', 'The', 'Imitation', 'Game', 'dirilis', 'pada', 'tahun', '2014']\n"
     ]
    }
   ],
   "source": [
    "text = \"Film    The Imitation   Game dirilis pada tahun 2014\"\n",
    "result = re.split(r\"\\s+\", text)\n",
    "print(result)"
   ]
  },
  {
   "cell_type": "code",
   "execution_count": 41,
   "metadata": {},
   "outputs": [
    {
     "name": "stdout",
     "output_type": "stream",
     "text": [
      "['Film', ' The Imitation Gam', ' dirilis pada tahun 2014']\n"
     ]
    }
   ],
   "source": [
    "text = \"Film, The Imitation Gam, dirilis pada tahun 2014\"\n",
    "result = re.split(r\"\\,\", text)\n",
    "print(result)"
   ]
  }
 ],
 "metadata": {
  "kernelspec": {
   "display_name": "Python 3",
   "language": "python",
   "name": "python3"
  },
  "language_info": {
   "codemirror_mode": {
    "name": "ipython",
    "version": 3
   },
   "file_extension": ".py",
   "mimetype": "text/x-python",
   "name": "python",
   "nbconvert_exporter": "python",
   "pygments_lexer": "ipython3",
   "version": "3.7.3"
  }
 },
 "nbformat": 4,
 "nbformat_minor": 2
}
