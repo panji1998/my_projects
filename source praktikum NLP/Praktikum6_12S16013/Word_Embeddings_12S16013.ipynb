{
 "cells": [
  {
   "cell_type": "code",
   "execution_count": 1,
   "metadata": {},
   "outputs": [
    {
     "data": {
      "text/plain": [
       "array([[0, 0, 0, 0, 0, 0, 0, 0, 0, 0, 0, 0, 0, 1, 0, 0, 0, 0, 0, 0, 0, 0,\n",
       "        0, 0, 0, 0, 0, 0, 0, 0, 0, 0, 0, 0, 0, 0, 0, 0, 0, 0, 0, 0, 0, 0]],\n",
       "      dtype=int64)"
      ]
     },
     "execution_count": 1,
     "metadata": {},
     "output_type": "execute_result"
    }
   ],
   "source": [
    "from sklearn.feature_extraction.text import CountVectorizer\n",
    "\n",
    "# create CountVectorizer object\n",
    "vectorizer = CountVectorizer()\n",
    "corpus = [\n",
    "    'The greatest glory in living lies not in never falling, but in rising every time we fall.',\n",
    "    'The way to get started is to quit talking and begin doing.',\n",
    "    'If life were predictable it would cease to be life, and be without flavor.',\n",
    "    'Life is what happens when you are busy making other plans.',\n",
    "]\n",
    "\n",
    "# Learn the vocabulary and store CountVectorizer sparse matrix in X\n",
    "X = vectorizer.fit_transform(corpus)\n",
    "\n",
    "# columns of X correspond to the result of this method\n",
    "vectorizer.get_feature_names() == (\n",
    "    ['be', 'begin', 'busy', 'fall',\n",
    "    'glory', 'is', 'life', 'other',\n",
    "    'quit', 'time', 'to', 'way'])\n",
    "\n",
    "# retrieving the matrix in the numpy form\n",
    "X.toarray()\n",
    "\n",
    "# transforming a new document according to learn vocabulary\n",
    "vectorizer.transform(['A glory.']).toarray()"
   ]
  },
  {
   "cell_type": "code",
   "execution_count": 3,
   "metadata": {},
   "outputs": [
    {
     "data": {
      "text/plain": [
       "array([[0.        , 0.        , 0.        , 0.        , 0.        ,\n",
       "        0.21080243, 0.        , 0.        , 0.21080243, 0.21080243,\n",
       "        0.21080243, 0.        , 0.        , 0.21080243, 0.21080243,\n",
       "        0.        , 0.        , 0.63240729, 0.        , 0.        ,\n",
       "        0.21080243, 0.        , 0.21080243, 0.        , 0.21080243,\n",
       "        0.21080243, 0.        , 0.        , 0.        , 0.        ,\n",
       "        0.21080243, 0.        , 0.        , 0.14957063, 0.21080243,\n",
       "        0.        , 0.        , 0.21080243, 0.        , 0.        ,\n",
       "        0.        , 0.        , 0.        , 0.        ],\n",
       "       [0.21871556, 0.        , 0.        , 0.30825419, 0.        ,\n",
       "        0.        , 0.        , 0.30825419, 0.        , 0.        ,\n",
       "        0.        , 0.        , 0.30825419, 0.        , 0.        ,\n",
       "        0.        , 0.        , 0.        , 0.21871556, 0.        ,\n",
       "        0.        , 0.        , 0.        , 0.        , 0.        ,\n",
       "        0.        , 0.        , 0.        , 0.        , 0.30825419,\n",
       "        0.        , 0.30825419, 0.30825419, 0.21871556, 0.        ,\n",
       "        0.43743112, 0.30825419, 0.        , 0.        , 0.        ,\n",
       "        0.        , 0.        , 0.        , 0.        ],\n",
       "       [0.18307419, 0.        , 0.51604362, 0.        , 0.        ,\n",
       "        0.        , 0.25802181, 0.        , 0.        , 0.        ,\n",
       "        0.        , 0.25802181, 0.        , 0.        , 0.        ,\n",
       "        0.        , 0.25802181, 0.        , 0.        , 0.25802181,\n",
       "        0.        , 0.36614837, 0.        , 0.        , 0.        ,\n",
       "        0.        , 0.        , 0.        , 0.25802181, 0.        ,\n",
       "        0.        , 0.        , 0.        , 0.        , 0.        ,\n",
       "        0.18307419, 0.        , 0.        , 0.25802181, 0.        ,\n",
       "        0.        , 0.25802181, 0.25802181, 0.        ],\n",
       "       [0.        , 0.31611927, 0.        , 0.        , 0.31611927,\n",
       "        0.        , 0.        , 0.        , 0.        , 0.        ,\n",
       "        0.        , 0.        , 0.        , 0.        , 0.        ,\n",
       "        0.31611927, 0.        , 0.        , 0.22429607, 0.        ,\n",
       "        0.        , 0.22429607, 0.        , 0.31611927, 0.        ,\n",
       "        0.        , 0.31611927, 0.31611927, 0.        , 0.        ,\n",
       "        0.        , 0.        , 0.        , 0.        , 0.        ,\n",
       "        0.        , 0.        , 0.        , 0.        , 0.31611927,\n",
       "        0.31611927, 0.        , 0.        , 0.31611927]])"
      ]
     },
     "execution_count": 3,
     "metadata": {},
     "output_type": "execute_result"
    }
   ],
   "source": [
    "from sklearn.feature_extraction.text import TfidfTransformer\n",
    "\n",
    "# create tf-idf object\n",
    "transformer = TfidfTransformer(smooth_idf=False)\n",
    "\n",
    "# Learn the vocabulary and store tf-idf sparse matrix in tfidf\n",
    "tfidf = transformer.fit_transform(X)\n",
    "\n",
    "# retrieving matrix in numpy form as we did it before\n",
    "tfidf.toarray()"
   ]
  },
  {
   "cell_type": "code",
   "execution_count": 7,
   "metadata": {},
   "outputs": [
    {
     "name": "stdout",
     "output_type": "stream",
     "text": [
      "Cosine similarity between 'alice' and 'wonderland' - CBOW :  0.993226\n",
      "Cosine similarity between 'alice' and 'machines' - CBOW :  0.9709195\n",
      "Cosine similarity between 'alice' and 'wonderland' - Skip Gram :  0.993226\n",
      "Cosine similarity between 'alice' and 'machines' - Skip Gram :  0.9709195\n"
     ]
    }
   ],
   "source": [
    "# importing all necessary modules\n",
    "from nltk.tokenize import sent_tokenize, word_tokenize\n",
    "import warnings\n",
    "\n",
    "warnings.filterwarnings(action = 'ignore')\n",
    "\n",
    "import gensim\n",
    "from gensim.models import Word2Vec\n",
    "\n",
    "# Reads 'alice.txt' file\n",
    "sample = open(\"D:/Downloads/Semester VII/NLP/alice_in_wonderland.txt\", \"r\")\n",
    "s = sample.read()\n",
    "\n",
    "# Replaces escape character with space\n",
    "f = s.replace(\"\\n\", \" \")\n",
    "\n",
    "data = []\n",
    "# iterate through each sentence in the file\n",
    "for i in sent_tokenize(f):\n",
    "    temp = []\n",
    "    \n",
    "    # tokenize the sentence into words\n",
    "    for j in word_tokenize(i):\n",
    "        temp.append(j.lower())\n",
    "        \n",
    "    data.append(temp)\n",
    "    \n",
    "# Create CBOW model\n",
    "model1 = gensim.models.Word2Vec(data, min_count = 1, size = 100, window = 5)\n",
    "\n",
    "# Print results\n",
    "print(\"Cosine similarity between 'alice' \" + \"and 'wonderland' - CBOW : \",\n",
    "     model1.similarity('alice', 'wonderland'))\n",
    "\n",
    "print(\"Cosine similarity between 'alice' \" + \"and 'machines' - CBOW : \",\n",
    "     model1.similarity('alice', 'machines'))\n",
    "\n",
    "# Create Skip Gram model\n",
    "model2 = gensim.models.Word2Vec(data, min_count = 1, size = 100, window = 5, sg = 1)\n",
    "\n",
    "# Print results\n",
    "print(\"Cosine similarity between 'alice' \" + \"and 'wonderland' - Skip Gram : \",\n",
    "     model1.similarity('alice', 'wonderland'))\n",
    "\n",
    "print(\"Cosine similarity between 'alice' \" + \"and 'machines' - Skip Gram : \",\n",
    "     model1.similarity('alice', 'machines'))"
   ]
  },
  {
   "cell_type": "code",
   "execution_count": 8,
   "metadata": {
    "scrolled": true
   },
   "outputs": [
    {
     "data": {
      "image/png": "[encoded data removed]",
      "text/plain": [
       "<Figure size 432x288 with 1 Axes>"
      ]
     },
     "metadata": {
      "needs_background": "light"
     },
     "output_type": "display_data"
    }
   ],
   "source": [
    "from sklearn.decomposition import PCA\n",
    "from matplotlib import pyplot\n",
    "\n",
    "%matplotlib inline\n",
    "\n",
    "# fit a 2d PCA model to the vectors\n",
    "X = model1[model1.wv.vocab]\n",
    "pca = PCA(n_components=2)\n",
    "result = pca.fit_transform(X)\n",
    "\n",
    "# create a scatter plot of the projection\n",
    "pyplot.scatter(result[:,0], result[:, 1])\n",
    "words = list(model1.wv.vocab)\n",
    "for i, word in enumerate(words):\n",
    "    pyplot.annotate(word, xy=(result[i, 0], result[i, 1]))\n",
    "\n",
    "pyplot.show()"
   ]
  },
  {
   "cell_type": "code",
   "execution_count": 9,
   "metadata": {},
   "outputs": [
    {
     "data": {
      "image/png": "[encoded data removed]",
      "text/plain": [
       "<Figure size 432x288 with 1 Axes>"
      ]
     },
     "metadata": {
      "needs_background": "light"
     },
     "output_type": "display_data"
    }
   ],
   "source": [
    "#fit a 2d PCA model to the vectors\n",
    "X = model2[model2.wv.vocab]\n",
    "pca = PCA(n_components=2)\n",
    "result = pca.fit_transform(X)\n",
    "\n",
    "# create a scatter plot of the projection\n",
    "pyplot.scatter(result[:, 0], result[:, 1])\n",
    "words = list(model2.wv.vocab)\n",
    "for i, word in enumerate(words):\n",
    "    pyplot.annotate(word, xy=(result[i, 0], result[i, 1]))\n",
    "    \n",
    "pyplot.show()"
   ]
  }
 ],
 "metadata": {
  "kernelspec": {
   "display_name": "Python 3",
   "language": "python",
   "name": "python3"
  },
  "language_info": {
   "codemirror_mode": {
    "name": "ipython",
    "version": 3
   },
   "file_extension": ".py",
   "mimetype": "text/x-python",
   "name": "python",
   "nbconvert_exporter": "python",
   "pygments_lexer": "ipython3",
   "version": "3.7.3"
  }
 },
 "nbformat": 4,
 "nbformat_minor": 2
}
